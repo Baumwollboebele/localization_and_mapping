{
  "metadata": {
    "language_info": {
      "codemirror_mode": {
        "name": "python",
        "version": 3
      },
      "file_extension": ".py",
      "mimetype": "text/x-python",
      "name": "python",
      "nbconvert_exporter": "python",
      "pygments_lexer": "ipython3",
      "version": "3.8"
    },
    "kernelspec": {
      "name": "python",
      "display_name": "Pyolite",
      "language": "python"
    }
  },
  "nbformat_minor": 4,
  "nbformat": 4,
  "cells": [
    {
      "cell_type": "markdown",
      "source": "# Multidimensional Kalman Filter",
      "metadata": {}
    },
    {
      "cell_type": "markdown",
      "source": "## State Extrapolation Equation",
      "metadata": {}
    },
    {
      "cell_type": "markdown",
      "source": "Using the state extrapolation equation, we can predict the next system state, based on the knowledge of the current state. It extrapolates the state vector from the present (time step $n$ ) to the future (time step $n+1$ ).",
      "metadata": {}
    },
    {
      "cell_type": "markdown",
      "source": "The general form of the state extrapolation equation in a matrix notation is:<br>\n\n\n### $\\boldsymbol{\\hat{x}_{n+1,n}=F\\hat{x}_{n,n}+Gu_{n}+w_{n}}$\n\n$\\boldsymbol{\\hat{x}_{n+1,n}}$ is a predicted system state vector at time step n+1.<br>\n$\\boldsymbol{\\hat{x}_{n,n}}$ is an estimated system state vector at time step n.<br>\n$\\boldsymbol{u_{n}}$ is a control variable or input variable - a measurable (deterministic) input to the system.<br>\n$\\boldsymbol{w_{n}}$ is a process noise or disturbance - an unmeasurable input that affects the state.<br>\n$\\boldsymbol{F}$ is a state transition matrix.<br>\n$\\boldsymbol{G}$ is a control matrix or input transition matrix (mapping control to state variables).<br>\n",
      "metadata": {
        "tags": []
      }
    },
    {
      "cell_type": "markdown",
      "source": "## Covariance Extrapolation Equation\n\nThe estimate uncertainty extrapolation equation is called Covariance Extrapolation Equation.\nThe general form of the Covariance Extrapolation Equation is given by:\n\n### $\\boldsymbol{P_{n+1,n} = FP_{n,n}F^{T} + Q}$\n\n$\\boldsymbol{P_{n,n}}$ is the uncertainty of an estimate - covariance matrix of the current state.<br>\n$\\boldsymbol{P_{n+1,n}}$ is the uncertainty of a prediction - covariance matrix for the next state. <br>\n$\\boldsymbol{F}$ is the state transition matrix.<br>\n$\\boldsymbol{Q}$ is the process noise matrux<br>",
      "metadata": {}
    },
    {
      "cell_type": "code",
      "source": "",
      "metadata": {},
      "execution_count": null,
      "outputs": []
    }
  ]
}