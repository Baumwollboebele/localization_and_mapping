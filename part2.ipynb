{
  "cells": [
    {
      "cell_type": "markdown",
      "metadata": {},
      "source": [
        "# Part 2: The $\\alpha - \\beta - \\gamma$ Filter "
      ]
    },
    {
      "cell_type": "markdown",
      "metadata": {},
      "source": [
        "## Tracking a constant velocity aircraft in one dimension"
      ]
    },
    {
      "cell_type": "markdown",
      "metadata": {},
      "source": [
        "<img src=\"https://www.kalmanfilter.net/img/AlphaBeta/ex2_oneD_radar.png\">"
      ]
    },
    {
      "cell_type": "markdown",
      "metadata": {},
      "source": [
        "$x_n$ represents the range to the aircraft at time n . The aircraft velocity is defined as the \n",
        "rate of change of the range with respect to time, thus the velocity is a derivative of the range:<br>\n",
        "$\\dot{x}= v= \\frac{dx}{dt}$"
      ]
    },
    {
      "cell_type": "markdown",
      "metadata": {},
      "source": [
        "The radar sends a track beam in the direction of the target at a constant rate. The track-to-track interval is Δt.\n",
        "Assuming constant velocity, the system's dynamic model can be described by two equations of motion:<br>\n",
        "$x_{n+1}= x_{n}+  \\Delta t\\dot{x}_{n}$<br>\n",
        "$\\dot{x}_{n+1}= \\dot{x}_{n}$"
      ]
    },
    {
      "cell_type": "markdown",
      "metadata": {},
      "source": [
        "The above system of equations is called a State **Extrapolation Equation**.<br>\n",
        "This system of equations extrapolates the current state to the next state (prediction)."
      ]
    },
    {
      "cell_type": "markdown",
      "metadata": {},
      "source": [
        "The **State Update Equation** will now be modified to fit this example."
      ]
    },
    {
      "cell_type": "markdown",
      "metadata": {},
      "source": [
        "State Update Equation for position:<br>\n",
        "$\\hat{x}_{n,n}=~ \\hat{x}_{n,n-1}+  \\alpha  \\left( z_{n}- \\hat{x}_{n,n-1} \\right)$\n",
        "\n",
        "State Update Equation for velocity:<br>\n",
        "$\\hat{\\dot{x}}_{n,n}= \\hat{\\dot{x}}_{n,n-1}+  \\beta  \\left( \\frac{z_{n}-\\hat{x}_{n,n-1}}{ \\Delta t} \\right)$"
      ]
    },
    {
      "cell_type": "markdown",
      "metadata": {},
      "source": [
        "A according implementation for 3 iterations would look like this:\n",
        "\n",
        "for $\\alpha$ and $\\beta$ we will define constant values.<br>\n",
        "$\\alpha=0.2$<br>\n",
        "$\\beta = 0.1$<br>"
      ]
    },
    {
      "cell_type": "markdown",
      "metadata": {},
      "source": [
        "The track-to-track interval $t$ is 5 seconds."
      ]
    },
    {
      "cell_type": "code",
      "execution_count": 1,
      "metadata": {
        "trusted": true
      },
      "outputs": [],
      "source": [
        "# Imports\n",
        "%matplotlib inline\n",
        "import numpy as np\n",
        "import matplotlib.pyplot as plt "
      ]
    },
    {
      "cell_type": "code",
      "execution_count": 2,
      "metadata": {
        "trusted": true
      },
      "outputs": [],
      "source": [
        "def noisy_range(r):\n",
        "    return np.random.normal(r,100,1)[0]"
      ]
    },
    {
      "cell_type": "code",
      "execution_count": 3,
      "metadata": {
        "trusted": true
      },
      "outputs": [
        {
          "name": "stdout",
          "output_type": "stream",
          "text": [
            "First Estimation: x=3168.137605065487, v=36.8137605065487\n",
            "Second Estimation: x=3354.0521875140553, v=36.99833849813117\n",
            "Third Estimation: x=3569.3596113225813, v=40.029911629918175\n"
          ]
        }
      ],
      "source": [
        "# Initial Conditions\n",
        "x0 = 3000 #meter\n",
        "v0 = 40 # meter/second\n",
        "dt = 5 # seconds\n",
        "\n",
        "a = 0.2\n",
        "b = 0.1\n",
        "\n",
        "# First Iteration\n",
        "prediction_x1 = 3000+v0*dt\n",
        "prediction_v1 = v0\n",
        "\n",
        "z1 = noisy_range(x0+v0*1*dt)\n",
        "\n",
        "estimation_x1 = prediction_x1 + a*(z1-prediction_x1)\n",
        "estimation_v1 = prediction_v1 + b*((z1-prediction_x1)/dt)\n",
        "\n",
        "# Second Iteration\n",
        "prediction_x2 = estimation_x1 + dt*estimation_v1\n",
        "prediction_v2 = estimation_v1\n",
        "\n",
        "z2 = noisy_range(x0+v0*2*dt)\n",
        "\n",
        "estimation_x2 = prediction_x2 + a*(z2-prediction_x2)\n",
        "estimation_v2 = prediction_v2 + b*((z2-prediction_x2)/dt)\n",
        "\n",
        "# Third Iteration\n",
        "prediction_x3 = estimation_x2 + dt*estimation_v2\n",
        "prediction_v3 = estimation_v2\n",
        "\n",
        "z3 = noisy_range(x0+v0*3*dt)\n",
        "\n",
        "estimation_x3 = prediction_x3 + a*(z3-prediction_x3)\n",
        "estimation_v3 = prediction_v3 + b*((z3-prediction_x3)/dt)\n",
        "\n",
        "\n",
        "print(f\"First Estimation: x={estimation_x1}, v={estimation_v1}\")\n",
        "print(f\"Second Estimation: x={estimation_x2}, v={estimation_v2}\")\n",
        "print(f\"Third Estimation: x={estimation_x3}, v={estimation_v3}\")"
      ]
    },
    {
      "cell_type": "markdown",
      "metadata": {},
      "source": [
        "<hr>"
      ]
    },
    {
      "cell_type": "markdown",
      "metadata": {},
      "source": [
        "In the next block, the above filter will be put into a class with the initialization parameter:\n",
        "- Initial Guess\n",
        "\n",
        "The function .run(i) will then estimate the weight for i iterations."
      ]
    },
    {
      "cell_type": "code",
      "execution_count": 4,
      "metadata": {
        "trusted": true
      },
      "outputs": [],
      "source": [
        "class Filter:\n",
        "    def __init__(self, x0, v0):\n",
        "        self.x0 = x0\n",
        "        self.v0 = v0\n",
        "        self.dt = 1\n",
        "        self.a = 0.2\n",
        "        self.b = 0.1\n",
        "        \n",
        "        self.prediction_x = None\n",
        "        self.prediction_v = None\n",
        "        \n",
        "        self.measurement_x = None\n",
        "        \n",
        "        self.estimation_x = x0\n",
        "        self.estimation_v = v0\n",
        "        \n",
        "        self.predictions_x = []\n",
        "        self.measurements_x = []\n",
        "        self.estimations_x = []\n",
        "        \n",
        "    def noisy_range(self,r):\n",
        "        return np.random.normal(r,100,1)[0]\n",
        "    \n",
        "    def run(self,iterations):\n",
        "        self.iterations = iterations\n",
        "        for i in range(1,iterations+1):\n",
        "            \n",
        "            self.prediction_x = self.estimation_x+self.estimation_v*self.dt\n",
        "            self.prediction_v = self.estimation_v\n",
        "            self.predictions_x.append(self.prediction_x)\n",
        "            \n",
        "            self.measurement_x = self.noisy_range(self.x0 + i*self.dt*self.v0)\n",
        "            self.measurements_x.append(self.measurement_x)\n",
        "            \n",
        "            self.estimation_x = self.prediction_x + self.a*(self.measurement_x-self.prediction_x)\n",
        "            self.estimation_v = self.prediction_v + self.b*((self.measurement_x - self.prediction_x)/self.dt)\n",
        "            self.estimations_x.append(self.estimation_x)\n",
        "            \n",
        "    def plot_results(self):\n",
        "        try:\n",
        "            plt.plot(range(1,self.iterations+1),[self.x0+self.v0*i for i in range(1,self.iterations+1)],\"r\",self.measurements_x,\"b--*\", self.estimations_x,\"g\",self.predictions_x,\"m\")\n",
        "            ax = plt.gca()\n",
        "            plt.legend([\"Ground Truth\",\"Measurements\",\"Estimation\",\"Prediction\"])\n",
        "            ax.set_xlabel('Iterations')\n",
        "            ax.set_ylabel('Meter')\n",
        "        except:\n",
        "            print(\"Execute the .run() funtion first.\")\n",
        "        \n",
        "        \n",
        "        \n",
        "    "
      ]
    },
    {
      "cell_type": "code",
      "execution_count": 5,
      "metadata": {
        "trusted": true
      },
      "outputs": [
        {
          "data": {
            "image/png": "[encoded data removed]",
            "text/plain": [
              "<Figure size 432x288 with 1 Axes>"
            ]
          },
          "metadata": {
            "needs_background": "light"
          },
          "output_type": "display_data"
        }
      ],
      "source": [
        "f = Filter(x0=3000, v0=40)\n",
        "f.run(20)\n",
        "f.plot_results()"
      ]
    },
    {
      "cell_type": "markdown",
      "metadata": {},
      "source": [
        "We can see that our estimation algorithm has a smoothing effect on the measurements, and it converges towards the true value<br>\n",
        "\n",
        "The value of $\\alpha$ and $\\beta$ shall depend on the measurement precision. If we use very precise equipment, like a laser radar, we would prefer a high  $\\alpha$ and $\\beta$ that follow measurements. In this case, the filter would quickly respond to a velocity change of the target. On the other hand, if measurement precision is low, we would prefer a low  $\\alpha$ and $\\beta$ . In this case, the filter will smooth the uncertainty (errors) in the measurements. However, the filter reaction to target velocity changes will be much slower."
      ]
    },
    {
      "cell_type": "code",
      "execution_count": null,
      "metadata": {},
      "outputs": [],
      "source": []
    }
  ],
  "metadata": {
    "interpreter": {
      "hash": "aee8b7b246df8f9039afb4144a1f6fd8d2ca17a180786b69acc140d282b71a49"
    },
    "kernelspec": {
      "display_name": "Pyolite",
      "language": "python",
      "name": "python3"
    },
    "language_info": {
      "codemirror_mode": {
        "name": "ipython",
        "version": 3
      },
      "file_extension": ".py",
      "mimetype": "text/x-python",
      "name": "python",
      "nbconvert_exporter": "python",
      "pygments_lexer": "ipython3",
      "version": "3.9.7"
    }
  },
  "nbformat": 4,
  "nbformat_minor": 4
}
