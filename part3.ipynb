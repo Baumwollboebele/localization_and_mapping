{
  "cells": [
    {
      "cell_type": "markdown",
      "metadata": {},
      "source": [
        "# Part 3: The $\\alpha - \\beta - \\gamma$ Filter "
      ]
    },
    {
      "cell_type": "markdown",
      "metadata": {},
      "source": [
        "## Tracking an accelerating aircraft in one dimension"
      ]
    },
    {
      "cell_type": "markdown",
      "metadata": {},
      "source": [
        "if the airplane moves with constant acceleration, we have to update our **State Extrapolation Equation** and our **State update Equation**"
      ]
    },
    {
      "cell_type": "markdown",
      "metadata": {},
      "source": [
        "**State Extrapolation Equation**:<br>\n",
        "$\\hat{x}_{n+1,n}= \\hat{x}_{n,n}+ \\hat{\\dot{x}}_{n,n} \\Delta t+ \\hat{\\ddot{x}}_{n,n}\\frac{ \\Delta t^{2}}{2}$<br>\n",
        "$\\hat{\\dot{x}}_{n+1,n}= \\hat{\\dot{x}}_{n,n}+ \\hat{\\ddot{x}}_{n,n} \\Delta t$<br>\n",
        "$\\hat{\\ddot{x}}_{n+1,n}= \\hat{\\ddot{x}}_{n,n}$"
      ]
    },
    {
      "cell_type": "markdown",
      "metadata": {},
      "source": [
        "**State Update Equation**:<br>\n",
        "$\\hat{x}_{n,n}=~ \\hat{x}_{n,n-1}+  \\alpha  \\left( z_{n}- \\hat{x}_{n,n-1} \\right)$<br>\n",
        "$\\hat{\\dot{x}}_{n,n}= \\hat{\\dot{x}}_{n,n-1}+  \\beta  \\left( \\frac{z_{n}-\\hat{x}_{n,n-1}}{ \\Delta t} \\right)$<br>\n",
        "$\\hat{\\ddot{x}}_{n,n}= \\hat{\\ddot{x}}_{n,n-1}+  \\gamma  \\left( \\frac{z_{n}-\\hat{x}_{n,n-1}}{0.5 \\Delta t^{2}} \\right)$"
      ]
    },
    {
      "cell_type": "markdown",
      "metadata": {},
      "source": [
        "A according implementation for 5 iterations would look like this:"
      ]
    },
    {
      "cell_type": "markdown",
      "metadata": {},
      "source": [
        "The  $\\alpha$, $\\beta$  and $\\gamma$ value are again set to constant values:<br>\n",
        "$\\alpha = 0.5$<br>\n",
        "$\\beta = 0.4$<br>\n",
        "$\\gamma= 0.1$<br>"
      ]
    },
    {
      "cell_type": "markdown",
      "metadata": {},
      "source": [
        "The track-to-track interval $t$ is 5 seconds.<br>\n",
        "We assume that the airplane has 0 acceleration for 10 seconds, then constant aceleration of $8m/s^2$"
      ]
    },
    {
      "cell_type": "code",
      "execution_count": null,
      "metadata": {},
      "outputs": [],
      "source": [
        "# Initial Conditions\n",
        "x0 = 3000 #meter\n",
        "v0 = 50 #meter/second\n",
        "a0 = 0 #meter/second^2\n",
        "\n",
        "a = 0.5\n",
        "b = 0.4\n",
        "g = 0.1\n",
        "\n"
      ]
    }
  ],
  "metadata": {
    "kernelspec": {
      "display_name": "Pyolite",
      "language": "python",
      "name": "python"
    },
    "language_info": {
      "codemirror_mode": {
        "name": "python",
        "version": 3
      },
      "file_extension": ".py",
      "mimetype": "text/x-python",
      "name": "python",
      "nbconvert_exporter": "python",
      "pygments_lexer": "ipython3",
      "version": "3.8"
    }
  },
  "nbformat": 4,
  "nbformat_minor": 4
}
