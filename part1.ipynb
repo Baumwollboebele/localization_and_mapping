{
  "cells": [
    {
      "cell_type": "markdown",
      "metadata": {},
      "source": [
        "# Part 1: The $\\alpha - \\beta - \\gamma$ Filter "
      ]
    },
    {
      "cell_type": "markdown",
      "metadata": {},
      "source": [
        "## 1. Weighting a gold bar"
      ]
    },
    {
      "cell_type": "markdown",
      "metadata": {},
      "source": [
        "In this example the weight of a gold bar will be estimated. <br>\n",
        "For this we use a scale which adds random noise (meassurement error) when weighting the gold bar."
      ]
    },
    {
      "cell_type": "markdown",
      "metadata": {},
      "source": [
        "<img src=\"https://www.kalmanfilter.net/img/AlphaBeta/ex1_gold-1kilo.png\">"
      ]
    },
    {
      "cell_type": "markdown",
      "metadata": {},
      "source": [
        "We denote the gold bar as the system for the filter. <br>\n",
        "The system's state will be the weight if the gold bar <br>\n",
        "and the sysem's dynamic model will be constant since we assume that the goldbar won't change weight."
      ]
    },
    {
      "cell_type": "markdown",
      "metadata": {},
      "source": [
        "At time N, the estimate $x_{N,N}$ would be the average of all previous measurements."
      ]
    },
    {
      "cell_type": "markdown",
      "metadata": {},
      "source": [
        "$\\hat{x}_{N,N}= \\frac{1}{N} \\left( z_{1}+ z_{2}+ \\ldots + z_{N-1}+ z_{N} \\right) = \\frac{1}{N} \\sum _{n=1}^{N} \\left( z_{n} \\right)$"
      ]
    },
    {
      "cell_type": "markdown",
      "metadata": {},
      "source": [
        "Notations:<br>\n",
        "$x$ true value of the weight<br>\n",
        "$z_n$ measurement value of the weight at time n<br>\n",
        "$\\hat{x}_{n,n}$ estimate of x at time n (estimate is taken after measurement)<br>\n",
        "$\\hat{x}_{n,n-1}$ is the previous estimate of x that was made at time n−1 <br>\n",
        "$\\hat{x}_{n+1,n}$ estimate of the future state (n+1 ) of x. The estimate is made at the time n, right after the measurement zn. In other words, $\\hat{x}_{n+1,n}$ is a predicted state\n",
        "\n"
      ]
    },
    {
      "cell_type": "markdown",
      "metadata": {},
      "source": [
        "We have a constant dynamic model, thus:<br>\n",
        "$x_{n+1,n} = x_{n,n}$\n",
        "    "
      ]
    },
    {
      "cell_type": "markdown",
      "metadata": {},
      "source": [
        "Alpha will be defined as:<br>\n",
        "$\\alpha _{n}= \\frac{1}{n}$"
      ]
    },
    {
      "cell_type": "markdown",
      "metadata": {},
      "source": [
        "To estimate $x_{N,N}$ we use the so called **State Update Equation**.<br>\n",
        "$\\hat{x}_{n,n}= \\hat{x}_{n,n-1}+  \\alpha _{n} \\left( z_{n}-\\hat{x}_{n,n-1} \\right)$"
      ]
    },
    {
      "cell_type": "markdown",
      "metadata": {},
      "source": [
        "The term $(z_{n}-\\hat{x}_{n,n-1})$ is the \"measurement\" residual, also called the innovation. The innovation contains the new information."
      ]
    },
    {
      "cell_type": "markdown",
      "metadata": {},
      "source": [
        "The first estimate will be the **Initial Guess**, for this we simpy read the stamp on the goldbar."
      ]
    },
    {
      "cell_type": "markdown",
      "metadata": {},
      "source": [
        "A according implementation for 3 iterations would look like this:"
      ]
    },
    {
      "cell_type": "code",
      "execution_count": 1,
      "metadata": {
        "trusted": true
      },
      "outputs": [],
      "source": [
        "# Imports\n",
        "%matplotlib inline\n",
        "import numpy as np\n",
        "import matplotlib.pyplot as plt "
      ]
    },
    {
      "cell_type": "code",
      "execution_count": 2,
      "metadata": {
        "trusted": true
      },
      "outputs": [],
      "source": [
        "# Function returns an np.array with random floats from a normal distribution with standard deviation 1.\n",
        "# The mean for the normal distribution as well as the ammount of data points can be chosen freely.\n",
        "def noisy_weight(weight):\n",
        "    return np.random.normal(weight,2,1)[0]"
      ]
    },
    {
      "cell_type": "code",
      "execution_count": 3,
      "metadata": {
        "trusted": true
      },
      "outputs": [
        {
          "name": "stdout",
          "output_type": "stream",
          "text": [
            "First Estimation: 996.9596933951289\n",
            "Second Estimation: 999.6908286964322\n",
            "Thirds Estimation: 999.7903700009697\n"
          ]
        }
      ],
      "source": [
        "# Every model needs an initial guess.\n",
        "# The initial guess in this example is also the ground truth.\n",
        "initial_guess = 1000 #gram\n",
        "ground_truth = initial_guess\n",
        "\n",
        "# Since the dynamic model is static the prediction equals the initialization.\n",
        "\n",
        "# First Iteration\n",
        "prediction1 = initial_guess\n",
        "z1 = noisy_weight(ground_truth)\n",
        "alpha1 = 1/1\n",
        "estimation1 = prediction1+alpha1*(z1-prediction1)\n",
        "\n",
        "#Second Iteration\n",
        "prediction2 = estimation1\n",
        "z2 = noisy_weight(ground_truth)\n",
        "alpha2 = 1/2\n",
        "estimation2 = prediction2+alpha2*(z2-prediction2)\n",
        "\n",
        "# Third Iteration\n",
        "prediction3 = estimation2\n",
        "z3 = noisy_weight(ground_truth)\n",
        "alpha3 = 1/3\n",
        "estimation3 = prediction3+alpha3*(z3-prediction3)\n",
        "\n",
        "print(f\"First Estimation: {estimation1}\")\n",
        "print(f\"Second Estimation: {estimation2}\")\n",
        "print(f\"Thirds Estimation: {estimation3}\")"
      ]
    },
    {
      "cell_type": "markdown",
      "metadata": {},
      "source": [
        "In the next block, the above filter will be put into a class with the initialization parameter:\n",
        "- Initial Guess\n",
        "\n",
        "The function .run(i) will then estimate the weight for i iterations."
      ]
    },
    {
      "cell_type": "code",
      "execution_count": 4,
      "metadata": {
        "trusted": true
      },
      "outputs": [],
      "source": [
        "class Filter:\n",
        "    def __init__(self, initial_guess):\n",
        "        \n",
        "        #The ground truth in this example is also the initial guess\n",
        "        self.ground_truth = initial_guess\n",
        "        \n",
        "        self.initial_guess = initial_guess\n",
        "        self.estimation = self.initial_guess\n",
        "        self.prediction = None\n",
        "        self.measurement = None\n",
        "        \n",
        "        self.estimations = []\n",
        "        self.measurements = []\n",
        "        \n",
        "        self.iterations = None\n",
        "        \n",
        "    def run(self,iterations):\n",
        "        self.iterations = iterations\n",
        "        for i in range(1,iterations+1):\n",
        "            # Current prediction becomes previous estimate.\n",
        "            self.prediction = self.estimation\n",
        "            \n",
        "            # Measurement with noise is taken of the prediction\n",
        "            self.measurement = self.noisy_weight(self.ground_truth)\n",
        "            self.measurements.append(self.measurement)\n",
        "            \n",
        "            #State Update Equation is applied.\n",
        "            self.estimation = self.prediction+(1/i)*(self.measurement - self.prediction)\n",
        "            self.estimations.append(self.estimation)\n",
        "    \n",
        "    def noisy_weight(self,weight):\n",
        "        return np.random.normal(weight,20,1)[0]\n",
        "    \n",
        "    def print_results(self):\n",
        "        try:\n",
        "            print(f\"True Value: {self.initial_guess}\")\n",
        "            print(f\"Measurements: {self.measurements}\")\n",
        "            print(f\"Estimations: {self.estimations}\")\n",
        "        except:\n",
        "            print(\"Execute the .run() funtion first.\")\n",
        "\n",
        "    \n",
        "    def plot_results(self):\n",
        "        try:\n",
        "            plt.plot(range(1,self.iterations+1),[self.ground_truth for i in range(self.iterations)],\"r\",self.measurements,\"g\",self.estimations,\"b\")\n",
        "            ax = plt.gca()\n",
        "            ax.set_ylim([np.floor(np.min(self.measurements)), np.ceil(np.max(self.measurements))])\n",
        "            plt.legend([\"Ground Truth\",\"Measurements\",\"Estimation\"])\n",
        "            ax.set_xlabel('Iterations')\n",
        "            ax.set_ylabel('Weight in gram')\n",
        "        except:\n",
        "            print(\"Execute the .run() funtion first.\")\n",
        "        "
      ]
    },
    {
      "cell_type": "code",
      "execution_count": 5,
      "metadata": {
        "trusted": true
      },
      "outputs": [
        {
          "data": {
            "image/png": "[encoded data removed]",
            "text/plain": [
              "<Figure size 432x288 with 1 Axes>"
            ]
          },
          "metadata": {
            "needs_background": "light"
          },
          "output_type": "display_data"
        }
      ],
      "source": [
        "f = Filter(1000)\n",
        "f.run(50)\n",
        "f.plot_results()"
      ]
    },
    {
      "cell_type": "markdown",
      "metadata": {},
      "source": [
        "We can see that our estimation algorithm has a smoothing effect on the measurements, and it converges towards the true value.ent "
      ]
    },
    {
      "cell_type": "code",
      "execution_count": null,
      "metadata": {},
      "outputs": [],
      "source": []
    },
    {
      "cell_type": "code",
      "execution_count": null,
      "metadata": {},
      "outputs": [],
      "source": []
    }
  ],
  "metadata": {
    "interpreter": {
      "hash": "aee8b7b246df8f9039afb4144a1f6fd8d2ca17a180786b69acc140d282b71a49"
    },
    "kernelspec": {
      "display_name": "Pyolite",
      "language": "python",
      "name": "python3"
    },
    "language_info": {
      "codemirror_mode": {
        "name": "ipython",
        "version": 3
      },
      "file_extension": ".py",
      "mimetype": "text/x-python",
      "name": "python",
      "nbconvert_exporter": "python",
      "pygments_lexer": "ipython3",
      "version": "3.9.7"
    }
  },
  "nbformat": 4,
  "nbformat_minor": 4
}
